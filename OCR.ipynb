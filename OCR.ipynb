{
 "cells": [
  {
   "cell_type": "code",
   "execution_count": 2,
   "id": "44e18e6c",
   "metadata": {},
   "outputs": [],
   "source": [
    "import easyocr\n",
    "import cv2\n",
    "from matplotlib import pyplot as plt\n",
    "import numpy as np"
   ]
  },
  {
   "cell_type": "code",
   "execution_count": 3,
   "id": "5818fa36",
   "metadata": {},
   "outputs": [],
   "source": [
    "image_path = 'manylines.png'\n",
    "# image_path = 'FreeasBird.png'\n"
   ]
  },
  {
   "cell_type": "code",
   "execution_count": 4,
   "id": "9e6b9e23",
   "metadata": {},
   "outputs": [
    {
     "data": {
      "text/plain": [
       "[([[225, 151], [301, 151], [301, 167], [225, 167]],\n",
       "  'Multiple',\n",
       "  0.9903289912448658),\n",
       " ([[315, 151], [381, 151], [381, 167], [315, 167]],\n",
       "  'ines of',\n",
       "  0.8623450408635276),\n",
       " ([[387, 153], [425, 153], [425, 167], [387, 167]],\n",
       "  'text',\n",
       "  0.9999855756759644),\n",
       " ([[201, 169], [323, 169], [323, 185], [201, 185]],\n",
       "  'more multiple',\n",
       "  0.9948964390496788),\n",
       " ([[329, 169], [377, 169], [377, 183], [329, 183]],\n",
       "  'lines',\n",
       "  0.988638656599615),\n",
       " ([[383, 169], [405, 169], [405, 183], [383, 183]], 'of', 0.9858704358871834),\n",
       " ([[411, 169], [449, 169], [449, 183], [411, 183]], 'text', 0.995325057294976),\n",
       " ([[149, 185], [215, 185], [215, 201], [149, 201]],\n",
       "  'another',\n",
       "  0.9996045105436363),\n",
       " ([[221, 185], [287, 185], [287, 201], [221, 201]],\n",
       "  'line of',\n",
       "  0.6479401763779807),\n",
       " ([[293, 185], [341, 185], [341, 201], [293, 201]],\n",
       "  'lines',\n",
       "  0.9759879573227912),\n",
       " ([[347, 183], [413, 183], [413, 201], [347, 201]],\n",
       "  'bla bla',\n",
       "  0.9966612188096734),\n",
       " ([[419, 185], [457, 185], [457, 201], [419, 201]],\n",
       "  'text',\n",
       "  0.9999926090240479),\n",
       " ([[463, 185], [503, 185], [503, 201], [463, 201]],\n",
       "  'text',\n",
       "  0.9999929666519165)]"
      ]
     },
     "execution_count": 4,
     "metadata": {},
     "output_type": "execute_result"
    }
   ],
   "source": [
    "render = easyocr.Reader(['en'], gpu=True)\n",
    "result = render.readtext(image_path)\n",
    "result"
   ]
  },
  {
   "cell_type": "code",
   "execution_count": 5,
   "id": "6a5ca394",
   "metadata": {},
   "outputs": [],
   "source": [
    "top_left = tuple(result[0][0][0])\n",
    "bottom_right = tuple(result[0][0][2])\n",
    "text = result[0][1]\n",
    "font = cv2.FONT_HERSHEY_SIMPLEX"
   ]
  },
  {
   "cell_type": "code",
   "execution_count": null,
   "id": "432670f9",
   "metadata": {},
   "outputs": [],
   "source": [
    "img = cv2.imread(image_path)\n",
    "img = cv2.rectangle(img, top_left, bottom_right, (0,255,0), 5)\n",
    "img = cv2.putText(img, text, top_left, font, 2, (0,0,0), 2, cv2.LINE_AA)\n",
    "plt.imshow(img)\n",
    "plt.show()"
   ]
  },
  {
   "cell_type": "code",
   "execution_count": null,
   "id": "497e512f",
   "metadata": {},
   "outputs": [],
   "source": [
    "img = cv2.imread(image_path)\n",
    "for detection in result:\n",
    "    top_left = tuple([int(val) for val in detection[0][0]])\n",
    "    bottom_right = tuple([int(val) for val in detection[0][0]])\n",
    "    text = detection[1]\n",
    "    img = cv2.rectangle(img, top_left, bottom_right, (0,0,0), 5)\n",
    "    img = cv2.putText(img, text, top_left, font, 2, (255,255,0),1, cv2.LINE_AA)\n",
    "\n",
    "plt.figure(figsize=(10,10))\n",
    "plt.imshow(img)\n",
    "plt.show()    "
   ]
  },
  {
   "cell_type": "code",
   "execution_count": 18,
   "id": "87ca6b94",
   "metadata": {},
   "outputs": [
    {
     "name": "stdout",
     "output_type": "stream",
     "text": [
      "Multiple\n",
      "ines of\n",
      "text\n",
      "more multiple\n",
      "lines\n",
      "of\n",
      "text\n",
      "another\n",
      "line of\n",
      "lines\n",
      "bla bla\n",
      "text\n",
      "text\n"
     ]
    }
   ],
   "source": [
    "extracted_text = [detection[1] for detection in result]  #Just to get the text\n",
    "for text in extracted_text:\n",
    "    print(text)"
   ]
  }
 ],
 "metadata": {
  "kernelspec": {
   "display_name": "Python 3 (ipykernel)",
   "language": "python",
   "name": "python3"
  },
  "language_info": {
   "codemirror_mode": {
    "name": "ipython",
    "version": 3
   },
   "file_extension": ".py",
   "mimetype": "text/x-python",
   "name": "python",
   "nbconvert_exporter": "python",
   "pygments_lexer": "ipython3",
   "version": "3.11.7"
  }
 },
 "nbformat": 4,
 "nbformat_minor": 5
}
